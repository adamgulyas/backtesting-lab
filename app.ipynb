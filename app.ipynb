{
 "cells": [
  {
   "cell_type": "code",
   "execution_count": 1,
   "metadata": {},
   "outputs": [],
   "source": [
    "# Import dependencies\n",
    "\n",
    "import joblib\n",
    "import numpy as np\n",
    "import pandas as pd\n",
    "import plotly.graph_objects as go\n",
    "import plotly.express as px\n",
    "import streamlit as st\n",
    "from joblib import Parallel, delayed\n",
    "from pandas.tseries.offsets import DateOffset\n",
    "from sklearn.svm import LinearSVC\n",
    "from sklearn.preprocessing import StandardScaler\n",
    "from sklearn.metrics import classification_report\n",
    "from finta import TA"
   ]
  },
  {
   "cell_type": "code",
   "execution_count": 36,
   "metadata": {},
   "outputs": [],
   "source": [
    "# Import data\n",
    "ohlc_df = pd.read_csv('data/markets_ohlc.csv', header=[0,1], index_col=0)"
   ]
  },
  {
   "cell_type": "code",
   "execution_count": 2,
   "metadata": {},
   "outputs": [],
   "source": [
    "# Import trained models\n",
    "svm_SP500 = joblib.load('models/linear_svm_SP 500.pkl')\n",
    "svm_NASDAQ100 = joblib.load('models/linear_svm_NASDAQ 100.pkl')\n",
    "svm_RUSSELL2000 = joblib.load('models/linear_svm_RUSSELL 2000.pkl')  "
   ]
  },
  {
   "cell_type": "code",
   "execution_count": 3,
   "metadata": {},
   "outputs": [],
   "source": [
    "# Declare Constants\n",
    "\n",
    "# dcb = Dot Com Bubble\n",
    "dcb_start = '1997-06-01'\n",
    "dcb_end = '2002-12-01'\n",
    "\n",
    "# crsh = 2008 Crash\n",
    "crsh_start = '2007-06-01'\n",
    "crsh_end = '2012-12-01'\n",
    "\n",
    "# cvd = COVID-19\n",
    "cvd_start = '2020-03-01'\n",
    "cvd_end = '2022-06-01'\n",
    "\n",
    "short_window = 4\n",
    "long_window = 100\n",
    "initial_capital = 100000.0\n",
    "share_size = 100\n",
    "start_date = dcb_start\n",
    "end_date = dcb_end\n",
    "stock = 'SP 500'"
   ]
  },
  {
   "cell_type": "code",
   "execution_count": 35,
   "metadata": {},
   "outputs": [],
   "source": [
    "def get_under_over_signals(data=ohlc_df):\n",
    "    \"\"\"\n",
    "    Create a signal based on the current day's closing price being higher or\n",
    "    lower than yesterdays.\n",
    "\n",
    "    Returns a date-indexed single column dataframe of the signal.\n",
    "    \"\"\"\n",
    "    df = data.copy()\n",
    "\n",
    "    df['Actual Returns'] = df['Close'].pct_change()\n",
    "\n",
    "    df['Signal'] = 0.0\n",
    "    df['Signal'] = np.where(\n",
    "        (df['Actual Returns'] >= 0), 1.0, 0.0\n",
    "    )\n",
    "\n",
    "    df = df.drop(\n",
    "        columns=['Close', 'Open', 'Low', 'High', 'Actual Returns']\n",
    "    )\n",
    "    df = df.dropna().sort_index(axis='columns')\n",
    "\n",
    "    return df"
   ]
  },
  {
   "cell_type": "code",
   "execution_count": 27,
   "metadata": {},
   "outputs": [],
   "source": [
    "def get_fast_slow_sma(data=pd.DataFrame, short_window=short_window, long_window=long_window):\n",
    "    \"\"\"\n",
    "    Create a signal based on the current day's closing price being higher or\n",
    "    lower than yesterdays.\n",
    "\n",
    "    Returns a date-indexed dataframe with SMA Fast, and SMA Slow columns\n",
    "    \"\"\"\n",
    "\n",
    "    df = data.drop(columns=['Open', 'Low', 'High'])\n",
    "\n",
    "    # Generate the fast and slow simple moving averages\n",
    "    df['SMA Fast'] = (\n",
    "        df['Close'].rolling(window=short_window).mean()\n",
    "    )\n",
    "    df['SMA Slow'] = (\n",
    "        df['Close'].rolling(window=long_window).mean()\n",
    "    )\n",
    "\n",
    "    # Sort the index\n",
    "    df = df.drop(columns='Close').dropna().sort_index(axis='columns')\n",
    "\n",
    "    return df"
   ]
  },
  {
   "cell_type": "code",
   "execution_count": 12,
   "metadata": {},
   "outputs": [],
   "source": [
    "def get_ohlc_data(df=ohlc_df, start=dcb_start, end=dcb_end, stock=stock):\n",
    "    \"\"\"\n",
    "    Takes a single dimension OHLC dataframe and returns a copy of it within the \n",
    "    boundaries of start and end.\n",
    "    \"\"\"\n",
    "\n",
    "    df = df[stock].copy()\n",
    "    df = df[start:end]\n",
    "    \n",
    "    return df"
   ]
  },
  {
   "cell_type": "code",
   "execution_count": 50,
   "metadata": {},
   "outputs": [],
   "source": [
    "def make_svm_predictions(start=dcb_start, end=dcb_end, stock=stock):\n",
    "\n",
    "    # Get the appropriate feature set\n",
    "    X_data = get_ohlc_data(start=dcb_start, end=dcb_end, stock=stock)\n",
    "    X = get_fast_slow_sma(X_data)\n",
    "\n",
    "    # Use the feature set to predict the target\n",
    "    y_pred = svm_NASDAQ100.predict(X)\n",
    "\n",
    "    # get the boundary datestrings of X's date-index\n",
    "    X_start = X.iloc[0].name\n",
    "    X_end = X.iloc[-1].name\n",
    "\n",
    "    # Get the y_true values corresponding to the predicted set\n",
    "    y_true = get_under_over_signals(X_data[X_start:X_end]).values\n",
    "    y_true = np.ravel(y_true)\n",
    "\n",
    "    df = pd.DataFrame({\n",
    "        'y_pred': y_pred,\n",
    "        'y_true': y_true\n",
    "    }, index=X.index)\n",
    "\n",
    "    return df\n"
   ]
  },
  {
   "cell_type": "code",
   "execution_count": 51,
   "metadata": {},
   "outputs": [
    {
     "name": "stderr",
     "output_type": "stream",
     "text": [
      "/opt/anaconda3/envs/algo/lib/python3.8/site-packages/sklearn/base.py:443: UserWarning: X has feature names, but LinearSVC was fitted without feature names\n",
      "  warnings.warn(\n"
     ]
    }
   ],
   "source": [
    "predictions = make_svm_predictions(start=dcb_start, end=dcb_end, stock=stock)"
   ]
  },
  {
   "cell_type": "code",
   "execution_count": 52,
   "metadata": {},
   "outputs": [
    {
     "data": {
      "text/html": [
       "<div>\n",
       "<style scoped>\n",
       "    .dataframe tbody tr th:only-of-type {\n",
       "        vertical-align: middle;\n",
       "    }\n",
       "\n",
       "    .dataframe tbody tr th {\n",
       "        vertical-align: top;\n",
       "    }\n",
       "\n",
       "    .dataframe thead th {\n",
       "        text-align: right;\n",
       "    }\n",
       "</style>\n",
       "<table border=\"1\" class=\"dataframe\">\n",
       "  <thead>\n",
       "    <tr style=\"text-align: right;\">\n",
       "      <th></th>\n",
       "      <th>y_pred</th>\n",
       "      <th>y_true</th>\n",
       "    </tr>\n",
       "    <tr>\n",
       "      <th>Date</th>\n",
       "      <th></th>\n",
       "      <th></th>\n",
       "    </tr>\n",
       "  </thead>\n",
       "  <tbody>\n",
       "    <tr>\n",
       "      <th>1997-10-21</th>\n",
       "      <td>0.0</td>\n",
       "      <td>0.0</td>\n",
       "    </tr>\n",
       "    <tr>\n",
       "      <th>1997-10-22</th>\n",
       "      <td>0.0</td>\n",
       "      <td>0.0</td>\n",
       "    </tr>\n",
       "    <tr>\n",
       "      <th>1997-10-23</th>\n",
       "      <td>0.0</td>\n",
       "      <td>0.0</td>\n",
       "    </tr>\n",
       "    <tr>\n",
       "      <th>1997-10-24</th>\n",
       "      <td>0.0</td>\n",
       "      <td>0.0</td>\n",
       "    </tr>\n",
       "    <tr>\n",
       "      <th>1997-10-27</th>\n",
       "      <td>0.0</td>\n",
       "      <td>0.0</td>\n",
       "    </tr>\n",
       "    <tr>\n",
       "      <th>...</th>\n",
       "      <td>...</td>\n",
       "      <td>...</td>\n",
       "    </tr>\n",
       "    <tr>\n",
       "      <th>2002-11-22</th>\n",
       "      <td>0.0</td>\n",
       "      <td>0.0</td>\n",
       "    </tr>\n",
       "    <tr>\n",
       "      <th>2002-11-25</th>\n",
       "      <td>0.0</td>\n",
       "      <td>1.0</td>\n",
       "    </tr>\n",
       "    <tr>\n",
       "      <th>2002-11-26</th>\n",
       "      <td>0.0</td>\n",
       "      <td>0.0</td>\n",
       "    </tr>\n",
       "    <tr>\n",
       "      <th>2002-11-27</th>\n",
       "      <td>0.0</td>\n",
       "      <td>1.0</td>\n",
       "    </tr>\n",
       "    <tr>\n",
       "      <th>2002-11-29</th>\n",
       "      <td>0.0</td>\n",
       "      <td>0.0</td>\n",
       "    </tr>\n",
       "  </tbody>\n",
       "</table>\n",
       "<p>1285 rows × 2 columns</p>\n",
       "</div>"
      ],
      "text/plain": [
       "            y_pred  y_true\n",
       "Date                      \n",
       "1997-10-21     0.0     0.0\n",
       "1997-10-22     0.0     0.0\n",
       "1997-10-23     0.0     0.0\n",
       "1997-10-24     0.0     0.0\n",
       "1997-10-27     0.0     0.0\n",
       "...            ...     ...\n",
       "2002-11-22     0.0     0.0\n",
       "2002-11-25     0.0     1.0\n",
       "2002-11-26     0.0     0.0\n",
       "2002-11-27     0.0     1.0\n",
       "2002-11-29     0.0     0.0\n",
       "\n",
       "[1285 rows x 2 columns]"
      ]
     },
     "execution_count": 52,
     "metadata": {},
     "output_type": "execute_result"
    }
   ],
   "source": [
    "predictions"
   ]
  },
  {
   "cell_type": "code",
   "execution_count": null,
   "metadata": {},
   "outputs": [],
   "source": []
  }
 ],
 "metadata": {
  "kernelspec": {
   "display_name": "Python 3.8.13 ('algo')",
   "language": "python",
   "name": "python3"
  },
  "language_info": {
   "codemirror_mode": {
    "name": "ipython",
    "version": 3
   },
   "file_extension": ".py",
   "mimetype": "text/x-python",
   "name": "python",
   "nbconvert_exporter": "python",
   "pygments_lexer": "ipython3",
   "version": "3.8.13"
  },
  "orig_nbformat": 4,
  "vscode": {
   "interpreter": {
    "hash": "c18abd281c586a411ed71deb42cd92df63168499385cd49a1a0ce4059caa0ef6"
   }
  }
 },
 "nbformat": 4,
 "nbformat_minor": 2
}
