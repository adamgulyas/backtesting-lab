{
 "cells": [
  {
   "cell_type": "markdown",
   "metadata": {},
   "source": [
    "### Imports"
   ]
  },
  {
   "cell_type": "code",
   "execution_count": null,
   "metadata": {},
   "outputs": [],
   "source": [
    "import numpy as np\n",
    "import pandas as pd\n",
    "import plotly.graph_objects as go\n",
    "import plotly.express as px\n",
    "from plotly.subplots import make_subplots\n",
    "import yfinance as yf\n",
    "from finta import TA\n",
    "from sklearn.svm import SVC\n",
    "from sklearn.preprocessing import StandardScaler\n",
    "from pandas.tseries.offsets import DateOffset\n",
    "from sklearn.metrics import classification_report"
   ]
  },
  {
   "cell_type": "markdown",
   "metadata": {},
   "source": [
    "### Declare Constants\n",
    "\n",
    "In the Streamlit app, the user will be able to choose time period as well as moving average windows, initial portfolio capital, and share size."
   ]
  },
  {
   "cell_type": "code",
   "execution_count": null,
   "metadata": {},
   "outputs": [],
   "source": [
    "# The trading algorithm will be tested and evaluated over three timelines:\n",
    "\n",
    "# dcb = Dot Com Bubble\n",
    "dcb_start = '1997-06-01'\n",
    "dcb_end = '2002-12-01'\n",
    "\n",
    "# crsh = 2008 Crash\n",
    "crsh_start = '2007-06-01'\n",
    "crsh_end = '2012-12-01'\n",
    "\n",
    "# cvd = COVID-19\n",
    "cvd_start = '2020-03-01'\n",
    "cvd_end = '2022-06-01'\n",
    "\n",
    "short_window = 4\n",
    "long_window = 100\n",
    "initial_capital = 100000.0\n",
    "share_size = 100\n",
    "start_date = dcb_start\n",
    "end_date = dcb_end"
   ]
  },
  {
   "cell_type": "markdown",
   "metadata": {},
   "source": [
    "### Get Financial Data"
   ]
  },
  {
   "cell_type": "code",
   "execution_count": null,
   "metadata": {},
   "outputs": [],
   "source": [
    "# Get price data from Yahoo! Finance for S&P 500, NASDAQ 100, and RUSSELL 2000\n",
    "ohlvc_df = yf.download(\n",
    "    '^GSPC ^NDX ^RUT', \n",
    "    start=dcb_start,\n",
    "    end=cvd_end\n",
    ")\n",
    "\n",
    "# rename columns from tickers to descriptive names\n",
    "ohlvc_df.rename(\n",
    "    columns={\n",
    "        '^NDX': 'NASDAQ 100',\n",
    "        '^RUT': 'RUSSELL 2000',\n",
    "        '^GSPC': 'SP 500', \n",
    "    },\n",
    "    inplace=True\n",
    ")\n",
    "\n",
    "ohlvc_df.drop('Adj Close', axis='columns', level=0, inplace=True)\n",
    "ohlvc_df.dropna(inplace=True)\n",
    "ohlvc_df.columns = ohlvc_df.columns.swaplevel(0, 1)\n",
    "ohlvc_df = ohlvc_df.sort_index(axis='columns')\n",
    "# ohlvc_df = ohlvc_df[start_date:end_date]"
   ]
  },
  {
   "cell_type": "code",
   "execution_count": null,
   "metadata": {},
   "outputs": [],
   "source": [
    "# Get the list of stocks to be used and remove duplicates\n",
    "stocks = list(dict.fromkeys(ohlvc_df.columns.get_level_values(0)))\n",
    "print(stocks)"
   ]
  },
  {
   "cell_type": "markdown",
   "metadata": {},
   "source": [
    "# Signal Functions"
   ]
  },
  {
   "cell_type": "markdown",
   "metadata": {},
   "source": [
    "### `get_under_over_signals()`"
   ]
  },
  {
   "cell_type": "code",
   "execution_count": null,
   "metadata": {},
   "outputs": [],
   "source": [
    "def get_under_over_signals(data=pd.DataFrame):\n",
    "    \n",
    "    df = data.drop(\n",
    "        columns=['Open', 'Low', 'High', 'Volume'], \n",
    "        level=1,\n",
    "        errors='ignore'\n",
    "    )\n",
    "\n",
    "    for stock in stocks:\n",
    "\n",
    "        df[stock, 'Actual Returns'] = df[stock, 'Close'].pct_change()\n",
    "\n",
    "        df[stock, 'Signal'] = 0.0\n",
    "        df[stock, 'Signal'] = np.where(\n",
    "            (df[stock, 'Actual Returns'] >= 0), 1, 0\n",
    "        )\n",
    "\n",
    "    return df"
   ]
  },
  {
   "cell_type": "markdown",
   "metadata": {},
   "source": [
    "### `get_dmac_signals()`"
   ]
  },
  {
   "cell_type": "code",
   "execution_count": null,
   "metadata": {},
   "outputs": [],
   "source": [
    "def get_dmac_signals(data=pd.DataFrame, short_window=short_window, long_window=long_window):\n",
    "\n",
    "    df = data.drop(\n",
    "        columns=['Open', 'Low', 'High', 'Volume'], \n",
    "        level=1,\n",
    "        errors='ignore'\n",
    "    )\n",
    "\n",
    "    for stock in stocks:\n",
    "\n",
    "        # Generate the fast and slow simple moving averages\n",
    "        df[stock, 'SMA Fast'] = (\n",
    "            df[stock, 'Close'].rolling(window=short_window).mean()\n",
    "        )\n",
    "        df[stock, 'SMA Slow'] = (\n",
    "            df[stock, 'Close'].rolling(window=long_window).mean()\n",
    "        )\n",
    "\n",
    "        # Generate signals based on SMA crossovers\n",
    "        df[stock, 'Signal'] = 0.0\n",
    "        df[stock, 'Signal'][short_window:] = np.where(\n",
    "            df[stock, 'SMA Fast'][short_window:] < \n",
    "            df[stock, 'SMA Slow'][short_window:], 1.0, 0.0\n",
    "        )\n",
    "\n",
    "    # Sort the index\n",
    "    df = df.sort_index(axis='columns')\n",
    "\n",
    "    return df"
   ]
  },
  {
   "cell_type": "markdown",
   "metadata": {},
   "source": [
    "### `calculate_portfolio()`"
   ]
  },
  {
   "cell_type": "code",
   "execution_count": null,
   "metadata": {},
   "outputs": [],
   "source": [
    "def calculate_portfolio(data=pd.DataFrame, initial_capital=initial_capital, share_size=share_size):\n",
    "\n",
    "    df = data.copy()\n",
    "\n",
    "    initial_capital = float(initial_capital)\n",
    "\n",
    "    for stock in stocks:\n",
    "\n",
    "        df[stock, 'Position'] = share_size * df[stock, 'Signal']\n",
    "        df[stock, 'Entry/Exit Position'] = df[stock, 'Position'].diff()\n",
    "        df[stock, 'Holdings'] = df[stock, 'Close'] * df[stock, 'Position']\n",
    "        df[stock, 'Cash'] = (\n",
    "            initial_capital - (df[stock, 'Close'] * df[stock, 'Entry/Exit Position']).cumsum()\n",
    "        )\n",
    "        df[stock, 'Portfolio Total'] = df[stock, 'Cash'] + df[stock, 'Holdings']\n",
    "        df[stock, 'Actual Returns'] = df[stock, 'Close'].pct_change()\n",
    "        df[stock, 'Actual Cumulative Returns'] = (\n",
    "            1 + df[stock, 'Actual Returns']\n",
    "        ).cumprod() - 1\n",
    "        df[stock, 'Algorithm Returns'] = df[stock, 'Actual Returns'] * df[stock, 'Signal']\n",
    "        df[stock, 'Algorithm Cumulative Returns'] = (\n",
    "            1 + df[stock, 'Algorithm Returns']\n",
    "        ).cumprod() - 1\n",
    "\n",
    "    df = df.sort_index(axis='columns')\n",
    "\n",
    "    return df"
   ]
  },
  {
   "cell_type": "markdown",
   "metadata": {},
   "source": [
    "### `plot_trades()`"
   ]
  },
  {
   "cell_type": "code",
   "execution_count": null,
   "metadata": {},
   "outputs": [],
   "source": [
    "def plot_trades(data, stock='SP 500', title='Trades View'):\n",
    "\n",
    "    df = data[stock].copy()\n",
    "\n",
    "    df['Entry/Exit'] = df['Signal'].diff()\n",
    "\n",
    "    entry_markers = df[df['Entry/Exit'] == 1.0]['Close']\n",
    "    entry_markers.rename('Buy', inplace=True)\n",
    "\n",
    "    exit_markers = df[df['Entry/Exit'] == -1.0]['Close']\n",
    "    exit_markers.rename('Sell', inplace=True)\n",
    "\n",
    "    df = df.drop(columns=['Signal', 'Entry/Exit'])\n",
    "\n",
    "    price_sma_fig = px.line(df)\n",
    "\n",
    "    entries_fig = px.scatter(entry_markers)\n",
    "    entries_fig.update_traces(\n",
    "        marker=dict(\n",
    "            symbol='triangle-up',\n",
    "            color='green',\n",
    "            size=15,\n",
    "            line=dict(\n",
    "                    width=1,\n",
    "                    color='black'\n",
    "                ),\n",
    "            ),\n",
    "        selector=dict(mode='markers')\n",
    "    )\n",
    "\n",
    "    exits_fig = px.scatter(exit_markers)\n",
    "    exits_fig.update_traces(\n",
    "        marker=dict(\n",
    "            symbol='triangle-down',\n",
    "            color='red',\n",
    "            size=15,\n",
    "            line=dict(\n",
    "                    width=1,\n",
    "                    color='black'\n",
    "                ),\n",
    "            ),\n",
    "        selector=dict(mode='markers')\n",
    "    )\n",
    "\n",
    "    all_fig = go.Figure(\n",
    "        data=price_sma_fig.data + entries_fig.data + exits_fig.data\n",
    "    )\n",
    "\n",
    "    all_fig.update_layout(\n",
    "        width=1200, \n",
    "        height=600, \n",
    "        xaxis_title='Date',\n",
    "        yaxis_title='Amount',\n",
    "        title=title)\n",
    "\n",
    "    return all_fig\n"
   ]
  },
  {
   "cell_type": "markdown",
   "metadata": {},
   "source": [
    "### `plot_portfolio()`"
   ]
  },
  {
   "cell_type": "code",
   "execution_count": null,
   "metadata": {},
   "outputs": [],
   "source": [
    "def plot_portfolio(data, stock='SP 500', title='Portfolio Performance'):\n",
    "\n",
    "    df = data[stock].copy()\n",
    "\n",
    "    df['Entry/Exit'] = df['Signal'].diff()\n",
    "\n",
    "    entry_markers = df[df['Entry/Exit'] == 1.0]['Portfolio Total']\n",
    "    entry_markers.rename('Buy', inplace=True)\n",
    "\n",
    "    exit_markers = df[df['Entry/Exit'] == -1.0]['Portfolio Total']\n",
    "    exit_markers.rename('Sell', inplace=True)\n",
    "\n",
    "    price_sma_fig = px.line(df[['Portfolio Total']])\n",
    "\n",
    "    entries_fig = px.scatter(entry_markers)\n",
    "    entries_fig.update_traces(\n",
    "        marker=dict(\n",
    "            symbol='triangle-up',\n",
    "            color='green',\n",
    "            size=15,\n",
    "            line=dict(\n",
    "                    width=1,\n",
    "                    color='black'\n",
    "                ),\n",
    "            ),\n",
    "        selector=dict(mode='markers')\n",
    "    )\n",
    "\n",
    "    exits_fig = px.scatter(exit_markers)\n",
    "    exits_fig.update_traces(\n",
    "        marker=dict(\n",
    "            symbol='triangle-down',\n",
    "            color='red',\n",
    "            size=15,\n",
    "            line=dict(\n",
    "                    width=1,\n",
    "                    color='black'\n",
    "                ),\n",
    "            ),\n",
    "        selector=dict(mode='markers')\n",
    "    )\n",
    "\n",
    "    all_fig = go.Figure(\n",
    "        data=price_sma_fig.data + entries_fig.data + exits_fig.data\n",
    "    )\n",
    "\n",
    "    all_fig.update_layout(\n",
    "        width=1200, \n",
    "        height=600, \n",
    "        xaxis_title='Date',\n",
    "        yaxis_title='Amount',\n",
    "        title=title)\n",
    "\n",
    "    return all_fig\n"
   ]
  },
  {
   "cell_type": "markdown",
   "metadata": {},
   "source": [
    "### `plot_returns()`"
   ]
  },
  {
   "cell_type": "code",
   "execution_count": null,
   "metadata": {},
   "outputs": [],
   "source": [
    "def plot_returns(data, stock='SP 500', title='Portfolio Returns'):\n",
    "\n",
    "    df = data[stock].copy()\n",
    "\n",
    "    df['Entry/Exit'] = df['Signal'].diff()\n",
    "\n",
    "    # entry_markers = df[df['Entry/Exit'] == 1.0]['Portfolio Total']\n",
    "    # entry_markers.rename('Buy', inplace=True)\n",
    "\n",
    "    # exit_markers = df[df['Entry/Exit'] == -1.0]['Portfolio Total']\n",
    "    # exit_markers.rename('Sell', inplace=True)\n",
    "\n",
    "    price_sma_fig = px.line(df[[\n",
    "        'Actual Cumulative Returns', \n",
    "        'Algorithm Cumulative Returns'\n",
    "    ]])\n",
    "\n",
    "    # entries_fig = px.scatter(entry_markers)\n",
    "    # entries_fig.update_traces(\n",
    "    #     marker=dict(\n",
    "    #         symbol='triangle-up',\n",
    "    #         color='green',\n",
    "    #         size=15,\n",
    "    #         line=dict(\n",
    "    #                 width=1,\n",
    "    #                 color='black'\n",
    "    #             ),\n",
    "    #         ),\n",
    "    #     selector=dict(mode='markers')\n",
    "    # )\n",
    "\n",
    "    # exits_fig = px.scatter(exit_markers)\n",
    "    # exits_fig.update_traces(\n",
    "    #     marker=dict(\n",
    "    #         symbol='triangle-down',\n",
    "    #         color='red',\n",
    "    #         size=15,\n",
    "    #         line=dict(\n",
    "    #                 width=1,\n",
    "    #                 color='black'\n",
    "    #             ),\n",
    "    #         ),\n",
    "    #     selector=dict(mode='markers')\n",
    "    # )\n",
    "\n",
    "    all_fig = go.Figure(\n",
    "        data=price_sma_fig.data\n",
    "    )\n",
    "    # all_fig = go.Figure(\n",
    "    #     data=price_sma_fig.data + entries_fig.data + exits_fig.data\n",
    "    # )\n",
    "\n",
    "    all_fig.update_layout(\n",
    "        width=1200, \n",
    "        height=600, \n",
    "        xaxis_title='Date',\n",
    "        yaxis_title='Amount',\n",
    "        title=title)\n",
    "\n",
    "    return all_fig"
   ]
  },
  {
   "cell_type": "code",
   "execution_count": null,
   "metadata": {},
   "outputs": [],
   "source": [
    "# Get DMAC signals calculated from the OHLVC data set\n",
    "dmac_signals_df = get_dmac_signals(ohlvc_df)\n",
    "dmac_signals_df.head()\n",
    "\n",
    "dmac_ptf_df = calculate_portfolio(dmac_signals_df)\n",
    "dmac_ptf_df.head()"
   ]
  },
  {
   "cell_type": "code",
   "execution_count": null,
   "metadata": {},
   "outputs": [],
   "source": [
    "dmac_ptf_df = calculate_portfolio(dmac_signals_df)\n",
    "dmac_ptf_df.head()"
   ]
  },
  {
   "cell_type": "code",
   "execution_count": null,
   "metadata": {},
   "outputs": [],
   "source": [
    "plot_trades(dmac_signals_df, 'RUSSELL 2000')"
   ]
  },
  {
   "cell_type": "code",
   "execution_count": null,
   "metadata": {},
   "outputs": [],
   "source": [
    "plot_portfolio(dmac_ptf_df)"
   ]
  },
  {
   "cell_type": "markdown",
   "metadata": {},
   "source": [
    "# SVM"
   ]
  },
  {
   "cell_type": "markdown",
   "metadata": {},
   "source": [
    "### `get_training_dates()`"
   ]
  },
  {
   "cell_type": "code",
   "execution_count": null,
   "metadata": {},
   "outputs": [],
   "source": [
    "# Split any DataFrame into 75/25 train/test split\n",
    "def get_training_dates(df):\n",
    "\n",
    "    training_start = df.index.min()\n",
    "\n",
    "    split_point = int(df.shape[0] * 0.75)\n",
    "    training_end = df.iloc[split_point].name\n",
    "\n",
    "    return training_start, training_end"
   ]
  },
  {
   "cell_type": "markdown",
   "metadata": {},
   "source": [
    "### SVM Training and Testing"
   ]
  },
  {
   "cell_type": "markdown",
   "metadata": {},
   "source": [
    "### `get_svm_signals()`"
   ]
  },
  {
   "cell_type": "code",
   "execution_count": null,
   "metadata": {},
   "outputs": [],
   "source": [
    "# Create training and testing classification reports\n",
    "# train_reports = []\n",
    "# test_reports = []\n",
    "\n",
    "def get_svm_signals(data=pd.DataFrame):\n",
    "\n",
    "    df = data.copy()\n",
    "    \n",
    "    training_start, training_end = get_training_dates(svm_features_df)\n",
    "\n",
    "    signals_df = df[training_end:].copy()\n",
    "\n",
    "    for stock in stocks:\n",
    "\n",
    "        X = pd.DataFrame(index=df.index)\n",
    "        X['SMA Fast'] = df[stock, 'SMA Fast'].copy()\n",
    "        X['SMA Slow'] = df[stock, 'SMA Slow'].copy()\n",
    "\n",
    "        target_df = get_under_over_signals(df)\n",
    "        target = target_df[stock, 'Signal']\n",
    "        y = target.dropna()\n",
    "\n",
    "        X_train = X.loc[training_start:training_end]\n",
    "        y_train = y.loc[training_start:training_end]\n",
    "\n",
    "        X_test = X.loc[training_end:]\n",
    "        y_test = y.loc[training_end:]\n",
    "\n",
    "        scaler = StandardScaler()\n",
    "\n",
    "        scaler = scaler.fit(X_train)\n",
    "        X_train_sc = scaler.transform(X_train)\n",
    "        X_test_sc = scaler.transform(X_test)\n",
    "\n",
    "        svm = SVC()\n",
    "\n",
    "        svm = svm.fit(X_train_sc, y_train)\n",
    "\n",
    "        # train_signal_pred = svm.predict(X_train_sc)\n",
    "        # train_reports.append(classification_report(y_train, train_signal_pred, zero_division=1))\n",
    "\n",
    "        test_signal_pred = svm.predict(X_test_sc)\n",
    "        # test_reports.append(classification_report(y_test, test_signal_pred, zero_division=1))\n",
    "\n",
    "        signals_df[stock, 'Signal'] = test_signal_pred\n",
    "\n",
    "    signals_df = signals_df.sort_index(axis='columns')\n",
    "\n",
    "    return signals_df\n",
    "\n",
    "# Print the training and testing classification reports\n",
    "# [print(report) for report in train_reports]\n",
    "# [print(report) for report in test_reports]"
   ]
  },
  {
   "cell_type": "code",
   "execution_count": null,
   "metadata": {},
   "outputs": [],
   "source": [
    "svm_features_df = get_dmac_signals(ohlvc_df).dropna().drop(\n",
    "    columns=['Signal'], \n",
    "    level=1,\n",
    ")\n",
    "\n",
    "svm_signals_df = get_svm_signals(svm_features_df)\n",
    "svm_signals_df.head()"
   ]
  },
  {
   "cell_type": "code",
   "execution_count": null,
   "metadata": {},
   "outputs": [],
   "source": [
    "plot_trades(svm_signals_df, 'NASDAQ 100')"
   ]
  },
  {
   "cell_type": "code",
   "execution_count": null,
   "metadata": {},
   "outputs": [],
   "source": [
    "svm_ptf_df = calculate_portfolio(svm_signals_df)\n",
    "svm_ptf_df.head()"
   ]
  },
  {
   "cell_type": "code",
   "execution_count": null,
   "metadata": {},
   "outputs": [],
   "source": [
    "plot_portfolio(svm_ptf_df, 'NASDAQ 100')"
   ]
  },
  {
   "cell_type": "code",
   "execution_count": null,
   "metadata": {},
   "outputs": [],
   "source": [
    "plot_returns(svm_ptf_df, 'NASDAQ 100')"
   ]
  }
 ],
 "metadata": {
  "kernelspec": {
   "display_name": "Python 3.8.13 ('algo')",
   "language": "python",
   "name": "python3"
  },
  "language_info": {
   "codemirror_mode": {
    "name": "ipython",
    "version": 3
   },
   "file_extension": ".py",
   "mimetype": "text/x-python",
   "name": "python",
   "nbconvert_exporter": "python",
   "pygments_lexer": "ipython3",
   "version": "3.8.13"
  },
  "orig_nbformat": 4,
  "vscode": {
   "interpreter": {
    "hash": "c18abd281c586a411ed71deb42cd92df63168499385cd49a1a0ce4059caa0ef6"
   }
  }
 },
 "nbformat": 4,
 "nbformat_minor": 2
}
