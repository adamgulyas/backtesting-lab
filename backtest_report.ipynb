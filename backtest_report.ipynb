{
 "cells": [
  {
   "cell_type": "code",
   "execution_count": 1,
   "id": "3655dcfc",
   "metadata": {},
   "outputs": [],
   "source": [
    "import random\n",
    "import numpy as np\n",
    "import pandas as pd\n",
    "from pathlib import Path"
   ]
  },
  {
   "cell_type": "code",
   "execution_count": null,
   "id": "ca5834af",
   "metadata": {},
   "outputs": [],
   "source": [
    "aapl_df = pd.read_csv(\n",
    "    \"aapl.csv\",\n",
    "    index_col=\"date\",\n",
    "    parse_dates=True,\n",
    "    infer_datetime_format=True)\n",
    "\n",
    "# Review the DataFrame\n",
    "aapl_df.head()"
   ]
  },
  {
   "cell_type": "code",
   "execution_count": null,
   "id": "9e2e3957",
   "metadata": {},
   "outputs": [],
   "source": [
    "portret_df = aapl_df['close'].pct_change()"
   ]
  },
  {
   "cell_type": "code",
   "execution_count": null,
   "id": "fb38a427",
   "metadata": {},
   "outputs": [],
   "source": [
    "def evaluate_portfolio(portret_df):\n",
    "    \n",
    "    # Create a list for the column name\n",
    "    columns = [\"Backtest Results\"]\n",
    "\n",
    "    # Create a list holding the names of the new evaluation metrics\n",
    "    metrics = [\n",
    "        \"Annualized Return\",\n",
    "        \"Cumulative Returns\",\n",
    "        \"Annual Volatility\",\n",
    "        \"Sharpe Ratio\",\n",
    "        \"Sortino Ratio\",\n",
    "        \"Best Winning Streak\",\n",
    "        \"Worst Losing Streak\"]\n",
    "\n",
    "    # Initialize the DataFrame with index set to the evaluation metrics and the column\n",
    "    eval_df = pd.DataFrame(index=metrics, columns=columns)\n",
    "\n",
    "    # Calculate annualized return\n",
    "    eval_df.loc[\"Annualized Return\"] = round(\n",
    "        portret_df.mean() * 252\n",
    "        ,2\n",
    "        )\n",
    "\n",
    "    # Calculate cumulative return\n",
    "\n",
    "    eval_df.loc[\"Cumulative Returns\"] = round(\n",
    "        ((1 + portret_df.cumsum()) -1)[-1]\n",
    "        ,2\n",
    "        )\n",
    "        \n",
    "\n",
    "    # Calculate annual volatility\n",
    "    eval_df.loc[\"Annual Volatility\"] = round(\n",
    "        portret_df.std() * np.sqrt(252)\n",
    "        ,2\n",
    "        )\n",
    "\n",
    "    # Calculate Sharpe ratio\n",
    "    eval_df.loc[\"Sharpe Ratio\"] = round(\n",
    "        portret_df.mean() * 252 / (\n",
    "        portret_df.std() * np.sqrt(252))\n",
    "        ,2\n",
    "        )\n",
    "\n",
    "    # Create a DataFrame that contains the Portfolio Daily Returns column\n",
    "    sortino_ratio_df = portret_df.copy()\n",
    "\n",
    "    # The Sortino ratio is reached by dividing the annualized return value\n",
    "    # by the downside standard deviation value\n",
    "    sortino_ratio = round(\n",
    "            portret_df.mean() * 252 / (portret_df[portret_df < 0].std() * np.sqrt(252))\n",
    "            ,2\n",
    "            )\n",
    "\n",
    "    # Add the Sortino ratio to the evaluation DataFrame\n",
    "    eval_df.loc[\"Sortino Ratio\"] = round(sortino_ratio,2)    \n",
    "\n",
    "    # Best and Worst streak\n",
    "    from itertools import groupby\n",
    "\n",
    "    # Best winning streak\n",
    "    L = portret_df.copy()\n",
    "    L[L > 0] = 1\n",
    "    L[L < 0] = float(\"NaN\")\n",
    "    longest = max((list(g) for _, g in groupby(L)), key=len)\n",
    "    eval_df.loc[\"Best Winning Streak\"] = len(longest)\n",
    "\n",
    "    # Worst losing streak\n",
    "    L = portret_df.copy()\n",
    "    L[L < 0] = -1\n",
    "    L[L > 0] = float(\"NaN\")\n",
    "    longest = max((list(g) for _, g in groupby(L)), key=len)\n",
    "    eval_df.loc[\"Worst Losing Streak\"] = len(longest)\n",
    "    \n",
    "    return eval_df"
   ]
  },
  {
   "cell_type": "code",
   "execution_count": null,
   "id": "9c208ed7",
   "metadata": {},
   "outputs": [
    {
     "name": "stdout",
     "output_type": "stream",
     "text": [
      "                    Backtest Results\n",
      "Annualized Return               0.19\n",
      "Cumulative Returns              0.94\n",
      "Annual Volatility               0.25\n",
      "Sharpe Ratio                    0.75\n",
      "Sortino Ratio                   1.02\n",
      "Best Winning Streak                9\n",
      "Worst Losing Streak                8\n"
     ]
    }
   ],
   "source": [
    "evaluate_portfolio(portret_df)"
   ]
  },
  {
   "cell_type": "code",
   "execution_count": null,
   "id": "3d86909d",
   "metadata": {},
   "outputs": [],
   "source": []
  }
 ],
 "metadata": {
  "kernelspec": {
   "display_name": "Python 3.8.13 ('algo')",
   "language": "python",
   "name": "python3"
  },
  "language_info": {
   "codemirror_mode": {
    "name": "ipython",
    "version": 3
   },
   "file_extension": ".py",
   "mimetype": "text/x-python",
   "name": "python",
   "nbconvert_exporter": "python",
   "pygments_lexer": "ipython3",
   "version": "3.8.13"
  },
  "vscode": {
   "interpreter": {
    "hash": "c18abd281c586a411ed71deb42cd92df63168499385cd49a1a0ce4059caa0ef6"
   }
  }
 },
 "nbformat": 4,
 "nbformat_minor": 5
}
