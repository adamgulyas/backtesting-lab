{
 "cells": [
  {
   "cell_type": "code",
   "execution_count": 15,
   "metadata": {},
   "outputs": [],
   "source": [
    "from datetime import datetime\n",
    "import pandas as pd\n",
    "import plotly.graph_objects as go\n",
    "import yfinance as yf"
   ]
  },
  {
   "cell_type": "code",
   "execution_count": 17,
   "metadata": {},
   "outputs": [],
   "source": [
    "# The trading algorithm will be tested and evaluated over three timelines:\n",
    "\n",
    "# dcb = Dot Com Bubble\n",
    "dcb_start = '1997-06-01'\n",
    "dcb_end = '2002-12-01'\n",
    "\n",
    "# crsh = 2008 Crash\n",
    "crsh_start = '2007-06-01'\n",
    "crsh_end = '2012-12-01'\n",
    "\n",
    "# cvd = COVID-19\n",
    "cvd_start = '2020-03-01'\n",
    "cvd_end = '2022-06-01'\n"
   ]
  },
  {
   "cell_type": "code",
   "execution_count": 20,
   "metadata": {},
   "outputs": [
    {
     "name": "stdout",
     "output_type": "stream",
     "text": [
      "[*********************100%***********************]  3 of 3 completed\n"
     ]
    }
   ],
   "source": [
    "# Get price data from Yahoo! Finance for S&P 500, NASDAQ 100, and RUSSELL 2000\n",
    "price_data = yf.download(\n",
    "    '^GSPC ^NDX ^RUT', \n",
    "    start=dcb_start,\n",
    "    end=cvd_end\n",
    ")['Close']\n",
    "\n",
    "# rename columns from tickers to descriptive names\n",
    "price_data.rename(\n",
    "    columns={\n",
    "        '^GSPC': 'SP500', \n",
    "        '^NDX': 'NASDAQ100',\n",
    "        '^RUT': 'RUSSELL2000'\n",
    "    },\n",
    "    inplace=True\n",
    ")\n",
    "\n",
    "price_data.dropna(inplace=True)"
   ]
  },
  {
   "cell_type": "code",
   "execution_count": 21,
   "metadata": {},
   "outputs": [
    {
     "data": {
      "text/html": [
       "<div>\n",
       "<style scoped>\n",
       "    .dataframe tbody tr th:only-of-type {\n",
       "        vertical-align: middle;\n",
       "    }\n",
       "\n",
       "    .dataframe tbody tr th {\n",
       "        vertical-align: top;\n",
       "    }\n",
       "\n",
       "    .dataframe thead th {\n",
       "        text-align: right;\n",
       "    }\n",
       "</style>\n",
       "<table border=\"1\" class=\"dataframe\">\n",
       "  <thead>\n",
       "    <tr style=\"text-align: right;\">\n",
       "      <th></th>\n",
       "      <th>SP500</th>\n",
       "      <th>NASDAQ100</th>\n",
       "      <th>RUSSELL2000</th>\n",
       "    </tr>\n",
       "    <tr>\n",
       "      <th>Date</th>\n",
       "      <th></th>\n",
       "      <th></th>\n",
       "      <th></th>\n",
       "    </tr>\n",
       "  </thead>\n",
       "  <tbody>\n",
       "    <tr>\n",
       "      <th>1997-06-02</th>\n",
       "      <td>846.359985</td>\n",
       "      <td>958.690002</td>\n",
       "      <td>383.519989</td>\n",
       "    </tr>\n",
       "    <tr>\n",
       "      <th>1997-06-03</th>\n",
       "      <td>845.479980</td>\n",
       "      <td>929.809998</td>\n",
       "      <td>383.279999</td>\n",
       "    </tr>\n",
       "    <tr>\n",
       "      <th>1997-06-04</th>\n",
       "      <td>840.109985</td>\n",
       "      <td>921.960022</td>\n",
       "      <td>382.670013</td>\n",
       "    </tr>\n",
       "    <tr>\n",
       "      <th>1997-06-05</th>\n",
       "      <td>843.429993</td>\n",
       "      <td>930.609985</td>\n",
       "      <td>384.989990</td>\n",
       "    </tr>\n",
       "    <tr>\n",
       "      <th>1997-06-06</th>\n",
       "      <td>858.010010</td>\n",
       "      <td>944.989990</td>\n",
       "      <td>387.140015</td>\n",
       "    </tr>\n",
       "  </tbody>\n",
       "</table>\n",
       "</div>"
      ],
      "text/plain": [
       "                 SP500   NASDAQ100  RUSSELL2000\n",
       "Date                                           \n",
       "1997-06-02  846.359985  958.690002   383.519989\n",
       "1997-06-03  845.479980  929.809998   383.279999\n",
       "1997-06-04  840.109985  921.960022   382.670013\n",
       "1997-06-05  843.429993  930.609985   384.989990\n",
       "1997-06-06  858.010010  944.989990   387.140015"
      ]
     },
     "metadata": {},
     "output_type": "display_data"
    },
    {
     "data": {
      "text/html": [
       "<div>\n",
       "<style scoped>\n",
       "    .dataframe tbody tr th:only-of-type {\n",
       "        vertical-align: middle;\n",
       "    }\n",
       "\n",
       "    .dataframe tbody tr th {\n",
       "        vertical-align: top;\n",
       "    }\n",
       "\n",
       "    .dataframe thead th {\n",
       "        text-align: right;\n",
       "    }\n",
       "</style>\n",
       "<table border=\"1\" class=\"dataframe\">\n",
       "  <thead>\n",
       "    <tr style=\"text-align: right;\">\n",
       "      <th></th>\n",
       "      <th>SP500</th>\n",
       "      <th>NASDAQ100</th>\n",
       "      <th>RUSSELL2000</th>\n",
       "    </tr>\n",
       "    <tr>\n",
       "      <th>Date</th>\n",
       "      <th></th>\n",
       "      <th></th>\n",
       "      <th></th>\n",
       "    </tr>\n",
       "  </thead>\n",
       "  <tbody>\n",
       "    <tr>\n",
       "      <th>2022-05-24</th>\n",
       "      <td>3941.479980</td>\n",
       "      <td>11769.839844</td>\n",
       "      <td>1764.829956</td>\n",
       "    </tr>\n",
       "    <tr>\n",
       "      <th>2022-05-25</th>\n",
       "      <td>3978.729980</td>\n",
       "      <td>11943.929688</td>\n",
       "      <td>1799.160034</td>\n",
       "    </tr>\n",
       "    <tr>\n",
       "      <th>2022-05-26</th>\n",
       "      <td>4057.840088</td>\n",
       "      <td>12276.790039</td>\n",
       "      <td>1838.239990</td>\n",
       "    </tr>\n",
       "    <tr>\n",
       "      <th>2022-05-27</th>\n",
       "      <td>4158.240234</td>\n",
       "      <td>12681.419922</td>\n",
       "      <td>1887.900024</td>\n",
       "    </tr>\n",
       "    <tr>\n",
       "      <th>2022-05-31</th>\n",
       "      <td>4132.149902</td>\n",
       "      <td>12642.099609</td>\n",
       "      <td>1864.040039</td>\n",
       "    </tr>\n",
       "  </tbody>\n",
       "</table>\n",
       "</div>"
      ],
      "text/plain": [
       "                  SP500     NASDAQ100  RUSSELL2000\n",
       "Date                                              \n",
       "2022-05-24  3941.479980  11769.839844  1764.829956\n",
       "2022-05-25  3978.729980  11943.929688  1799.160034\n",
       "2022-05-26  4057.840088  12276.790039  1838.239990\n",
       "2022-05-27  4158.240234  12681.419922  1887.900024\n",
       "2022-05-31  4132.149902  12642.099609  1864.040039"
      ]
     },
     "metadata": {},
     "output_type": "display_data"
    }
   ],
   "source": [
    "# Preview the data\n",
    "display(price_data.head())\n",
    "display(price_data.tail())"
   ]
  },
  {
   "cell_type": "code",
   "execution_count": null,
   "metadata": {},
   "outputs": [],
   "source": []
  }
 ],
 "metadata": {
  "kernelspec": {
   "display_name": "Python 3.8.13 ('algo')",
   "language": "python",
   "name": "python3"
  },
  "language_info": {
   "codemirror_mode": {
    "name": "ipython",
    "version": 3
   },
   "file_extension": ".py",
   "mimetype": "text/x-python",
   "name": "python",
   "nbconvert_exporter": "python",
   "pygments_lexer": "ipython3",
   "version": "3.8.13"
  },
  "orig_nbformat": 4,
  "vscode": {
   "interpreter": {
    "hash": "c18abd281c586a411ed71deb42cd92df63168499385cd49a1a0ce4059caa0ef6"
   }
  }
 },
 "nbformat": 4,
 "nbformat_minor": 2
}
