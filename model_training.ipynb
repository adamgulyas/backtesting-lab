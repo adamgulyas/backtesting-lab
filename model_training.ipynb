{
 "cells": [
  {
   "cell_type": "code",
   "execution_count": 119,
   "metadata": {},
   "outputs": [],
   "source": [
    "import numpy as np\n",
    "import pandas as pd\n",
    "from finta import TA\n",
    "from sklearn.svm import SVC, LinearSVC, NuSVC\n",
    "from sklearn.preprocessing import StandardScaler\n",
    "from pandas.tseries.offsets import DateOffset\n",
    "from sklearn.metrics import classification_report"
   ]
  },
  {
   "cell_type": "code",
   "execution_count": 41,
   "metadata": {},
   "outputs": [],
   "source": [
    "# The trading algorithm will be tested and evaluated over three timelines:\n",
    "\n",
    "# dcb = Dot Com Bubble\n",
    "dcb_start = '1997-06-01'\n",
    "dcb_end = '2002-12-01'\n",
    "\n",
    "# crsh = 2008 Crash\n",
    "crsh_start = '2007-06-01'\n",
    "crsh_end = '2012-12-01'\n",
    "\n",
    "# cvd = COVID-19\n",
    "cvd_start = '2020-03-01'\n",
    "cvd_end = '2022-06-01'\n",
    "\n",
    "short_window = 4\n",
    "long_window = 100\n",
    "initial_capital = 100000.0\n",
    "share_size = 100\n",
    "start_date = dcb_start\n",
    "end_date = dcb_end\n",
    "stock = 'SP 500'"
   ]
  },
  {
   "cell_type": "code",
   "execution_count": 146,
   "metadata": {},
   "outputs": [],
   "source": [
    "def get_under_over_signals(data=pd.DataFrame):\n",
    "    \n",
    "    df = data.drop(columns=['Open', 'Low', 'High'])\n",
    "\n",
    "    df['Actual Returns'] = df['Close'].pct_change()\n",
    "\n",
    "    df['Signal'] = 0.0\n",
    "    df['Signal'] = np.where(\n",
    "        (df['Actual Returns'] >= 0), 1.0, 0.0\n",
    "    )\n",
    "\n",
    "    df = df.drop(columns=['Close', 'Actual Returns'])\n",
    "    df = df.dropna().sort_index(axis='columns')\n",
    "\n",
    "    return df"
   ]
  },
  {
   "cell_type": "code",
   "execution_count": 95,
   "metadata": {},
   "outputs": [],
   "source": [
    "def get_fast_slow_sma(data=pd.DataFrame, short_window=short_window, long_window=long_window):\n",
    "\n",
    "    df = data.drop(columns=['Open', 'Low', 'High'])\n",
    "\n",
    "    # Generate the fast and slow simple moving averages\n",
    "    df['sma_fast'] = (\n",
    "        df['Close'].rolling(window=short_window).mean()\n",
    "    )\n",
    "    df['sma_slow'] = (\n",
    "        df['Close'].rolling(window=long_window).mean()\n",
    "    )\n",
    "\n",
    "    # Sort the index\n",
    "    df = df.drop(columns='Close').dropna().sort_index(axis='columns')\n",
    "\n",
    "    return df"
   ]
  },
  {
   "cell_type": "code",
   "execution_count": 44,
   "metadata": {},
   "outputs": [],
   "source": [
    "# Split any DataFrame into 75/25 train/test split\n",
    "def get_training_dates(df):\n",
    "\n",
    "    training_start = df.index.min()\n",
    "\n",
    "    split_point = int(df.shape[0] * 0.75)\n",
    "    training_end = df.iloc[split_point].name\n",
    "\n",
    "    return training_start, training_end"
   ]
  },
  {
   "cell_type": "code",
   "execution_count": 140,
   "metadata": {},
   "outputs": [],
   "source": [
    "# Always requires a 1D dataframe with a 'Close' column\n",
    "def train_svm(data=pd.DataFrame):\n",
    "\n",
    "    df = data.dropna()\n",
    "\n",
    "    X = get_fast_slow_sma(df)\n",
    "\n",
    "    X_start = X.iloc[0].name\n",
    "    X_end = X.iloc[-1].name\n",
    "\n",
    "    y = get_under_over_signals(df[X_start:X_end])\n",
    "    y = np.ravel(y)\n",
    "\n",
    "    X_sc = StandardScaler().fit_transform(X)\n",
    "\n",
    "    svm = LinearSVC()\n",
    "    svm = svm.fit(X_sc, y)\n",
    "\n",
    "    return svm"
   ]
  },
  {
   "cell_type": "code",
   "execution_count": 141,
   "metadata": {},
   "outputs": [],
   "source": [
    "stock = 'SP 500'\n",
    "\n",
    "ohlc_df = pd.read_csv('data/markets_ohlc.csv', header=[0,1], index_col=0)\n",
    "ohlc_df = ohlc_df[stock].copy()"
   ]
  },
  {
   "cell_type": "code",
   "execution_count": 147,
   "metadata": {},
   "outputs": [],
   "source": [
    "trained_svm = train_svm(ohlc_df)"
   ]
  },
  {
   "cell_type": "code",
   "execution_count": 148,
   "metadata": {},
   "outputs": [
    {
     "name": "stderr",
     "output_type": "stream",
     "text": [
      "/opt/anaconda3/envs/algo/lib/python3.8/site-packages/sklearn/base.py:443: UserWarning: X has feature names, but LinearSVC was fitted without feature names\n",
      "  warnings.warn(\n"
     ]
    }
   ],
   "source": [
    "X_test = get_fast_slow_sma(ohlc_df)\n",
    "X_test = X_test[dcb_start:dcb_end].copy()\n",
    "X_test_sc = StandardScaler().fit_transform(X_test)\n",
    "\n",
    "y_test = get_under_over_signals(ohlc_df[dcb_start:dcb_end])\n",
    "\n",
    "y_pred = trained_svm.predict(X_test)"
   ]
  },
  {
   "cell_type": "code",
   "execution_count": 149,
   "metadata": {},
   "outputs": [
    {
     "name": "stdout",
     "output_type": "stream",
     "text": [
      "              precision    recall  f1-score   support\n",
      "\n",
      "         0.0       0.52      0.41      0.46       690\n",
      "         1.0       0.51      0.62      0.56       694\n",
      "\n",
      "    accuracy                           0.52      1384\n",
      "   macro avg       0.52      0.52      0.51      1384\n",
      "weighted avg       0.52      0.52      0.51      1384\n",
      "\n"
     ]
    }
   ],
   "source": [
    "print(classification_report(y_test, y_pred))"
   ]
  },
  {
   "cell_type": "code",
   "execution_count": null,
   "metadata": {},
   "outputs": [],
   "source": []
  },
  {
   "cell_type": "code",
   "execution_count": null,
   "metadata": {},
   "outputs": [],
   "source": []
  }
 ],
 "metadata": {
  "kernelspec": {
   "display_name": "Python 3.8.13 ('algo')",
   "language": "python",
   "name": "python3"
  },
  "language_info": {
   "codemirror_mode": {
    "name": "ipython",
    "version": 3
   },
   "file_extension": ".py",
   "mimetype": "text/x-python",
   "name": "python",
   "nbconvert_exporter": "python",
   "pygments_lexer": "ipython3",
   "version": "3.8.13"
  },
  "orig_nbformat": 4,
  "vscode": {
   "interpreter": {
    "hash": "c18abd281c586a411ed71deb42cd92df63168499385cd49a1a0ce4059caa0ef6"
   }
  }
 },
 "nbformat": 4,
 "nbformat_minor": 2
}
