{
 "cells": [
  {
   "cell_type": "code",
   "execution_count": 39,
   "metadata": {},
   "outputs": [],
   "source": [
    "import numpy as np\n",
    "import pandas as pd\n",
    "from finta import TA\n",
    "from sklearn.svm import LinearSVC, SVR\n",
    "from sklearn.preprocessing import StandardScaler\n",
    "from pandas.tseries.offsets import DateOffset\n",
    "import sklearn.metrics as skm\n",
    "from joblib import Parallel, delayed\n",
    "import joblib"
   ]
  },
  {
   "cell_type": "code",
   "execution_count": 85,
   "metadata": {},
   "outputs": [],
   "source": [
    "# The trading algorithm will be tested and evaluated over three timelines:\n",
    "\n",
    "# dcb = Dot Com Bubble\n",
    "dcb_start = '1997-06-01'\n",
    "dcb_end = '2002-12-01'\n",
    "\n",
    "# crsh = 2008 Crash\n",
    "crsh_start = '2007-06-01'\n",
    "crsh_end = '2012-12-01'\n",
    "\n",
    "# cvd = COVID-19\n",
    "cvd_start = '2020-03-01'\n",
    "cvd_end = '2022-06-01'\n",
    "\n",
    "short_window = 4\n",
    "long_window = 100\n",
    "initial_capital = 100000.0\n",
    "share_size = 100\n",
    "start = crsh_start\n",
    "end = crsh_end\n",
    "stock = 'S&P 500'\n",
    "# stock = 'NASDAQ 100'\n",
    "# stock = 'RUSSELL 2000'"
   ]
  },
  {
   "cell_type": "code",
   "execution_count": 41,
   "metadata": {},
   "outputs": [],
   "source": [
    "def get_under_over_signals(data=pd.DataFrame):\n",
    "    \n",
    "    df = data.drop(columns=['Open', 'Low', 'High'])\n",
    "\n",
    "    df['Actual Returns'] = df['Close'].pct_change()\n",
    "\n",
    "    df['Signal'] = 0.0\n",
    "    df['Signal'] = np.where(\n",
    "        (df['Actual Returns'] < 0), 1.0, 0.0\n",
    "    )\n",
    "\n",
    "    df = df.drop(columns=['Close', 'Actual Returns'])\n",
    "    df = df.dropna().sort_index(axis='columns')\n",
    "\n",
    "    return df"
   ]
  },
  {
   "cell_type": "code",
   "execution_count": 42,
   "metadata": {},
   "outputs": [],
   "source": [
    "def get_fast_slow_sma(data=pd.DataFrame, short_window=short_window, long_window=long_window):\n",
    "\n",
    "    df = data.drop(columns=['Open', 'Low', 'High'])\n",
    "\n",
    "    # Generate the fast and slow simple moving averages\n",
    "    df['sma_fast'] = (\n",
    "        df['Close'].rolling(window=short_window).mean()\n",
    "    )\n",
    "    df['sma_slow'] = (\n",
    "        df['Close'].rolling(window=long_window).mean()\n",
    "    )\n",
    "\n",
    "    # Sort the index\n",
    "    df = df.drop(columns='Close').dropna().sort_index(axis='columns')\n",
    "\n",
    "    return df"
   ]
  },
  {
   "cell_type": "code",
   "execution_count": 43,
   "metadata": {},
   "outputs": [],
   "source": [
    "# Split any DataFrame into 75/25 train/test split\n",
    "def get_training_dates(df):\n",
    "\n",
    "    training_start = df.index.min()\n",
    "\n",
    "    split_point = int(df.shape[0] * 0.75)\n",
    "    training_end = df.iloc[split_point].name\n",
    "\n",
    "    return training_start, training_end"
   ]
  },
  {
   "cell_type": "code",
   "execution_count": 44,
   "metadata": {},
   "outputs": [],
   "source": [
    "# Always requires a 1D dataframe with a 'Close' column\n",
    "def train_linear_svm(data=pd.DataFrame):\n",
    "\n",
    "    df = data.dropna()\n",
    "\n",
    "    X = get_fast_slow_sma(df)\n",
    "\n",
    "    X_start = X.iloc[0].name\n",
    "    X_end = X.iloc[-1].name\n",
    "\n",
    "    y = get_under_over_signals(df[X_start:X_end])\n",
    "    y = np.ravel(y)\n",
    "\n",
    "    X_sc = StandardScaler().fit_transform(X)\n",
    "\n",
    "    model = LinearSVC()\n",
    "    model = model.fit(X_sc, y)\n",
    "\n",
    "    return model"
   ]
  },
  {
   "cell_type": "code",
   "execution_count": 45,
   "metadata": {},
   "outputs": [],
   "source": [
    "# Always requires a 1D dataframe with a 'Close' column\n",
    "def train_svr(data=pd.DataFrame):\n",
    "\n",
    "    df = data.dropna()\n",
    "\n",
    "    X = get_fast_slow_sma(df)\n",
    "\n",
    "    X_start = X.iloc[0].name\n",
    "    X_end = X.iloc[-1].name\n",
    "\n",
    "    y = get_under_over_signals(df[X_start:X_end])\n",
    "    y = np.ravel(y)\n",
    "\n",
    "    X_sc = StandardScaler().fit_transform(X)\n",
    "\n",
    "    model = SVR()\n",
    "    model = model.fit(X_sc, y)\n",
    "\n",
    "    return model"
   ]
  },
  {
   "cell_type": "code",
   "execution_count": 62,
   "metadata": {},
   "outputs": [],
   "source": [
    "def get_metric(model, metric):\n",
    "\n",
    "    X_test = get_fast_slow_sma(ohlc_df)\n",
    "    X_test = X_test[start:end].copy()\n",
    "    X_test_sc = StandardScaler().fit_transform(X_test)\n",
    "\n",
    "    y_true = get_under_over_signals(ohlc_df[start:end]).values\n",
    "    y_true = np.ravel(y_true)\n",
    "\n",
    "    y_pred = model.predict(X_test_sc)\n",
    "    y_pred = np.ravel(y_pred)\n",
    "\n",
    "    return \n",
    "\n",
    "    # if metric == 'auc': \n",
    "    #     fpr, tpr, thresholds = skm.roc_curve(y_true, y_pred, pos_label=2)\n",
    "    #     skm.auc(fpr, tpr)\n",
    "    #     return skm.auc(fpr, tpr)\n",
    "    # elif metric == 'roc_auc_score': return skm.auc(X_test, y_pred)\n",
    "\n",
    "    return\n"
   ]
  },
  {
   "cell_type": "code",
   "execution_count": 48,
   "metadata": {},
   "outputs": [],
   "source": [
    "ohlc_df = pd.read_csv(\n",
    "    'data/markets_ohlc.csv', \n",
    "    header=[0,1], \n",
    "    index_col=0, \n",
    "    infer_datetime_format=True, \n",
    "    parse_dates=True\n",
    ")\n",
    "\n",
    "ohlc_df = ohlc_df[stock].copy()"
   ]
  },
  {
   "cell_type": "code",
   "execution_count": 36,
   "metadata": {},
   "outputs": [
    {
     "data": {
      "text/plain": [
       "['models/linear_svm_S&P 500.pkl']"
      ]
     },
     "execution_count": 36,
     "metadata": {},
     "output_type": "execute_result"
    }
   ],
   "source": [
    "trained_linear_svm = train_linear_svm(ohlc_df)\n",
    "joblib.dump(trained_linear_svm, f'models/linear_svm_{stock}.pkl')"
   ]
  },
  {
   "cell_type": "code",
   "execution_count": 49,
   "metadata": {},
   "outputs": [
    {
     "data": {
      "text/plain": [
       "['models/svr_S&P 500.pkl']"
      ]
     },
     "execution_count": 49,
     "metadata": {},
     "output_type": "execute_result"
    }
   ],
   "source": [
    "trained_svr = train_svr(ohlc_df)\n",
    "joblib.dump(trained_svr, f'models/svr_{stock}.pkl')"
   ]
  },
  {
   "cell_type": "code",
   "execution_count": null,
   "metadata": {},
   "outputs": [],
   "source": [
    "# def get_svc_metrics(model, metric_type):\n",
    "\n",
    "#     X_test = get_fast_slow_sma(ohlc_df)\n",
    "#     X_test = X_test[start:end].copy()\n",
    "#     X_test_sc = StandardScaler().fit_transform(X_test)\n",
    "\n",
    "#     y_true = get_under_over_signals(ohlc_df[start:end]).values\n",
    "#     y_true = y_true.flatten()\n",
    "\n",
    "#     y_pred = model.predict(X_test_sc)\n",
    "#     y_pred = y_pred.flatten()\n",
    "\n",
    "    \n",
    "\n",
    "#     if metric_type == 'auc': \n",
    "#         return skm.mean_squared_error(y_true, y_pred)\n",
    "    # elif metric_type == 'roc_auc_score': return skm.auc(X_test, y_pred)"
   ]
  },
  {
   "cell_type": "code",
   "execution_count": 83,
   "metadata": {},
   "outputs": [],
   "source": [
    "def get_svr_metrics(model, metric_type):\n",
    "\n",
    "    X_test = get_fast_slow_sma(ohlc_df)\n",
    "    X_test = X_test[start:end].copy()\n",
    "    X_test_sc = StandardScaler().fit_transform(X_test)\n",
    "\n",
    "    y_true = get_under_over_signals(ohlc_df[start:end]).values\n",
    "    y_true = y_true.flatten()\n",
    "\n",
    "    y_pred = model.predict(X_test_sc)\n",
    "    y_pred = y_pred.flatten()\n",
    "    \n",
    "\n",
    "    if metric_type == 'mse': \n",
    "        return skm.mean_squared_error(y_true, y_pred)\n",
    "    if metric_type == 'mae': \n",
    "        return skm.mean_absolute_error(y_true, y_pred)\n",
    "    if metric_type == 'evs':\n",
    "        return skm.explained_variance_score(y_true, y_pred)\n",
    "    # elif metric_type == 'roc_auc_score': return skm.auc(X_test, y_pred)"
   ]
  },
  {
   "cell_type": "code",
   "execution_count": 86,
   "metadata": {},
   "outputs": [
    {
     "data": {
      "text/plain": [
       "0.46926917996594925"
      ]
     },
     "execution_count": 86,
     "metadata": {},
     "output_type": "execute_result"
    }
   ],
   "source": [
    "get_svr_metrics(trained_svr, 'mae')"
   ]
  },
  {
   "cell_type": "code",
   "execution_count": 64,
   "metadata": {},
   "outputs": [
    {
     "name": "stderr",
     "output_type": "stream",
     "text": [
      "/opt/anaconda3/envs/algo/lib/python3.8/site-packages/sklearn/base.py:443: UserWarning: X has feature names, but SVR was fitted without feature names\n",
      "  warnings.warn(\n"
     ]
    },
    {
     "data": {
      "text/plain": [
       "-0.19005662755277863"
      ]
     },
     "execution_count": 64,
     "metadata": {},
     "output_type": "execute_result"
    }
   ],
   "source": [
    "X_test = get_fast_slow_sma(ohlc_df)\n",
    "X_test = X_test[start:end].copy()\n",
    "X_test_sc = StandardScaler().fit_transform(X_test)\n",
    "\n",
    "y_test = get_under_over_signals(ohlc_df[start:end])\n",
    "\n",
    "y_pred = trained_linear_svm.predict(X_test_sc)\n",
    "\n",
    "# print(skm.classification_report(y_test, y_pred))\n",
    "trained_svr.score(X_test, y_test)"
   ]
  },
  {
   "cell_type": "code",
   "execution_count": 63,
   "metadata": {},
   "outputs": [
    {
     "name": "stderr",
     "output_type": "stream",
     "text": [
      "/opt/anaconda3/envs/algo/lib/python3.8/site-packages/sklearn/metrics/_ranking.py:999: UndefinedMetricWarning: No positive samples in y_true, true positive value should be meaningless\n",
      "  warnings.warn(\n"
     ]
    },
    {
     "data": {
      "text/plain": [
       "nan"
      ]
     },
     "execution_count": 63,
     "metadata": {},
     "output_type": "execute_result"
    }
   ],
   "source": [
    "trained_svr.score()"
   ]
  },
  {
   "cell_type": "code",
   "execution_count": null,
   "metadata": {},
   "outputs": [],
   "source": []
  }
 ],
 "metadata": {
  "kernelspec": {
   "display_name": "Python 3.8.13 ('algo')",
   "language": "python",
   "name": "python3"
  },
  "language_info": {
   "codemirror_mode": {
    "name": "ipython",
    "version": 3
   },
   "file_extension": ".py",
   "mimetype": "text/x-python",
   "name": "python",
   "nbconvert_exporter": "python",
   "pygments_lexer": "ipython3",
   "version": "3.8.13"
  },
  "orig_nbformat": 4,
  "vscode": {
   "interpreter": {
    "hash": "c18abd281c586a411ed71deb42cd92df63168499385cd49a1a0ce4059caa0ef6"
   }
  }
 },
 "nbformat": 4,
 "nbformat_minor": 2
}
