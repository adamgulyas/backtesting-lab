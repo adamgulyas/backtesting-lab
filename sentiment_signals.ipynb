{
 "cells": [
  {
   "cell_type": "markdown",
   "id": "a99899bb-fd7e-4c59-ab3b-1b33abdbbe44",
   "metadata": {},
   "source": [
    "### This notebook is testing different sentiment signal strategies"
   ]
  },
  {
   "cell_type": "code",
   "execution_count": 170,
   "id": "ecc46584-6b63-476e-99b4-547467aee634",
   "metadata": {},
   "outputs": [],
   "source": [
    "import pandas as pd\n",
    "import numpy as np"
   ]
  },
  {
   "cell_type": "code",
   "execution_count": 171,
   "id": "09e4e859-a997-4f66-9cf3-91da13dee7ed",
   "metadata": {},
   "outputs": [],
   "source": [
    "# importing the data\n",
    "dcb_VADER = pd.read_csv('../Project_2/Sentiment_Scores/VADER/dcb_VADER_sentiment.csv', parse_dates=True, index_col=\"date\", infer_datetime_format=True)\n",
    "crsh_VADER = pd.read_csv('../Project_2/Sentiment_Scores/VADER/crsh_VADER_sentiment.csv', parse_dates=True, index_col=\"date\", infer_datetime_format=True)\n",
    "cvd_VADER = pd.read_csv('../Project_2/Sentiment_Scores/VADER/cvd_VADER_sentiment.csv', parse_dates=True, index_col=\"date\", infer_datetime_format=True)"
   ]
  },
  {
   "cell_type": "code",
   "execution_count": 172,
   "id": "a5e3ad0c-a26e-4213-b7fe-e96adc7830da",
   "metadata": {},
   "outputs": [],
   "source": [
    "# turning the index into date format\n",
    "dcb_VADER.index = pd.DatetimeIndex(dcb_VADER.index).date\n",
    "crsh_VADER.index = pd.DatetimeIndex(crsh_VADER.index).date\n",
    "cvd_VADER.index = pd.DatetimeIndex(cvd_VADER.index).date"
   ]
  },
  {
   "cell_type": "code",
   "execution_count": 173,
   "id": "990592e9-b126-4215-ba83-209449143833",
   "metadata": {},
   "outputs": [],
   "source": [
    "# grouping each df by the date then taking the mean\n",
    "dcb_VADER = dcb_VADER.groupby(by=dcb_VADER.index).mean()\n",
    "crsh_VADER = crsh_VADER.groupby(by=crsh_VADER.index).mean()\n",
    "cvd_VADER = cvd_VADER.groupby(by=cvd_VADER.index).mean()"
   ]
  },
  {
   "cell_type": "code",
   "execution_count": 133,
   "id": "6d37b871-0b88-4d48-9fc4-a4dc1ec90ab7",
   "metadata": {},
   "outputs": [],
   "source": [
    "# strategy 1: no boundries\n",
    "def get_simple_signals(data):\n",
    "    sentiment_signal = []\n",
    "    for score in data['compound']:\n",
    "        if score > 0:\n",
    "            sentiment_signal.append(1)   \n",
    "        elif score < 0:\n",
    "            sentiment_signal.append(-1)\n",
    "        else:\n",
    "             sentiment_signal.append(0)\n",
    "    data['sentiment signal'] = sentiment_signal \n",
    "    data.drop(columns='compound', inplace=True)\n",
    "    export_name = data.index[0]\n",
    "    data.to_csv(f'../Project_2/Sentiment_Signals/simple_{export_name}_signal.csv')"
   ]
  },
  {
   "cell_type": "code",
   "execution_count": 134,
   "id": "0d1c9d27-7775-43f1-821b-666f46a60de0",
   "metadata": {},
   "outputs": [],
   "source": [
    "get_simple_signals(cvd_VADER)"
   ]
  },
  {
   "cell_type": "code",
   "execution_count": null,
   "id": "bfd0224d-6b4c-4f02-9994-0f444300b4bf",
   "metadata": {},
   "outputs": [
    {
     "data": {
      "text/html": [
       "<div>\n",
       "<style scoped>\n",
       "    .dataframe tbody tr th:only-of-type {\n",
       "        vertical-align: middle;\n",
       "    }\n",
       "\n",
       "    .dataframe tbody tr th {\n",
       "        vertical-align: top;\n",
       "    }\n",
       "\n",
       "    .dataframe thead th {\n",
       "        text-align: right;\n",
       "    }\n",
       "</style>\n",
       "<table border=\"1\" class=\"dataframe\">\n",
       "  <thead>\n",
       "    <tr style=\"text-align: right;\">\n",
       "      <th></th>\n",
       "      <th>compound</th>\n",
       "      <th>signal</th>\n",
       "    </tr>\n",
       "  </thead>\n",
       "  <tbody>\n",
       "    <tr>\n",
       "      <th>1997-06-01</th>\n",
       "      <td>-0.028627</td>\n",
       "      <td>0</td>\n",
       "    </tr>\n",
       "    <tr>\n",
       "      <th>1997-06-02</th>\n",
       "      <td>-0.381800</td>\n",
       "      <td>-1</td>\n",
       "    </tr>\n",
       "    <tr>\n",
       "      <th>1997-06-03</th>\n",
       "      <td>0.297325</td>\n",
       "      <td>1</td>\n",
       "    </tr>\n",
       "    <tr>\n",
       "      <th>1997-06-04</th>\n",
       "      <td>0.234550</td>\n",
       "      <td>1</td>\n",
       "    </tr>\n",
       "    <tr>\n",
       "      <th>1997-06-05</th>\n",
       "      <td>0.103150</td>\n",
       "      <td>0</td>\n",
       "    </tr>\n",
       "  </tbody>\n",
       "</table>\n",
       "</div>"
      ],
      "text/plain": [
       "            compound  signal\n",
       "1997-06-01 -0.028627       0\n",
       "1997-06-02 -0.381800      -1\n",
       "1997-06-03  0.297325       1\n",
       "1997-06-04  0.234550       1\n",
       "1997-06-05  0.103150       0"
      ]
     },
     "execution_count": 40,
     "metadata": {},
     "output_type": "execute_result"
    }
   ],
   "source": [
    "get_boundry_signals(dcb_VADER)\n",
    "dcb_VADER.head()"
   ]
  },
  {
   "cell_type": "code",
   "execution_count": 179,
   "id": "b7d53b8d-7692-4307-be88-4cdcc512ae5f",
   "metadata": {},
   "outputs": [],
   "source": [
    "pick_boundry_signals(cvd_VADER, 0.1, -0.3)"
   ]
  },
  {
   "cell_type": "code",
   "execution_count": 174,
   "id": "de878422-ad18-45c3-bba2-849c07a4456e",
   "metadata": {},
   "outputs": [],
   "source": [
    "# strategy 3: comparing market sentiment to the 5 day rolling average and making a signal based on the diff\n",
    "\n",
    "def get_std_signals(data):\n",
    "    copy = data.copy()\n",
    "    copy['diff'] = copy['compound'].diff()\n",
    "    copy['rolling std'] = copy['compound'].rolling(window=5).std()\n",
    "    copy.dropna(inplace=True)\n",
    "    \n",
    "    sentiment_signal = []\n",
    "    for column, row in copy.iterrows():\n",
    "        if row['diff'] > (2 * row['rolling std']):\n",
    "            sentiment_signal.append(-1)\n",
    "        elif row['diff'] > (0):\n",
    "            sentiment_signal.append(1)\n",
    "        elif row['diff'] < -(2 * row['rolling std']):\n",
    "            sentiment_signal.append(1)\n",
    "        elif row['diff'] < (0):\n",
    "            sentiment_signal.append(-1)\n",
    "        else:\n",
    "            sentiment_signal.append(0)\n",
    "    copy['signal'] = sentiment_signal\n",
    "    \n",
    "    copy.drop(columns=['diff','rolling std', 'compound'], inplace=True)\n",
    "    export_name = copy.index[0]\n",
    "    copy.to_csv(f'../Project_2/Sentiment_Signals/std_{export_name}_signal.csv')"
   ]
  },
  {
   "cell_type": "code",
   "execution_count": 178,
   "id": "8f8f057d-069a-4e2a-be32-7d5b859cb7b5",
   "metadata": {},
   "outputs": [],
   "source": [
    "get_std_signals(crsh_VADER)"
   ]
  },
  {
   "cell_type": "markdown",
   "id": "30c50243-da89-4b30-950e-5cec996725ca",
   "metadata": {
    "tags": []
   },
   "source": [
    "### NOT IN USE"
   ]
  },
  {
   "cell_type": "code",
   "execution_count": null,
   "id": "8aaa3045-3221-4936-aac8-bc126a953947",
   "metadata": {},
   "outputs": [],
   "source": [
    "# strategy 2: simple boundries\n",
    "\n",
    "def get_boundry_signals(data):\n",
    "    sentiment_signal = []\n",
    "    for score in data['compound']:\n",
    "        if score > 0.2:\n",
    "            sentiment_signal.append(1)   \n",
    "        elif score < 0.2 and score > -0.2:\n",
    "            sentiment_signal.append(0)\n",
    "        elif score < -0.2:\n",
    "            sentiment_signal.append(-1)\n",
    "    data['signal'] = sentiment_signal"
   ]
  },
  {
   "cell_type": "code",
   "execution_count": null,
   "id": "52e689eb-c569-4e7c-a2f8-9b1c565977f7",
   "metadata": {},
   "outputs": [],
   "source": [
    "# stategy 2.1: pick your boundry signals\n",
    "\n",
    "def pick_boundry_signals(data, upper_bound, lower_bound):\n",
    "    sentiment_signal = []\n",
    "    for score in data['compound']:\n",
    "        if score > upper_bound:\n",
    "            sentiment_signal.append(1)   \n",
    "        elif score < upper_bound and score > lower_bound:\n",
    "            sentiment_signal.append(0)\n",
    "        elif score < lower_bound:\n",
    "            sentiment_signal.append(-1)\n",
    "    data['signal'] = sentiment_signal"
   ]
  }
 ],
 "metadata": {
  "kernelspec": {
   "display_name": "Python 3",
   "language": "python",
   "name": "python3"
  },
  "language_info": {
   "codemirror_mode": {
    "name": "ipython",
    "version": 3
   },
   "file_extension": ".py",
   "mimetype": "text/x-python",
   "name": "python",
   "nbconvert_exporter": "python",
   "pygments_lexer": "ipython3",
   "version": "3.7.13"
  }
 },
 "nbformat": 4,
 "nbformat_minor": 5
}
