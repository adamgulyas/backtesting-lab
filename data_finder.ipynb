{
 "cells": [
  {
   "cell_type": "markdown",
   "id": "fa28442a-04b7-44c9-a99b-083327247ebd",
   "metadata": {},
   "source": [
    "## This notebook is for creating a corpus of NLP data from the NY Times API"
   ]
  },
  {
   "cell_type": "markdown",
   "id": "5c9a1dfe-4fa8-45a5-90a9-543c87838bc5",
   "metadata": {},
   "source": [
    "#### Neccisary Imports and Dependenceies\n",
    "\n",
    "You will need to sign up for a NY Times API key by going to https://developer.nytimes.com/ then signing up and following the get started tab. Then throw your key into your .env file and put that file into your directory with the notebook\n",
    "\n",
    "Installs:\n",
    "pip install --upgrade pynytimes \n"
   ]
  },
  {
   "cell_type": "code",
   "execution_count": 5,
   "id": "801e9678-dc94-469c-b44a-5faae8bea700",
   "metadata": {},
   "outputs": [],
   "source": [
    "import os\n",
    "from dotenv import load_dotenv\n",
    "from pynytimes import NYTAPI\n",
    "import pandas as pd\n",
    "from datetime import datetime\n",
    "from pathlib import Path"
   ]
  },
  {
   "cell_type": "code",
   "execution_count": 6,
   "id": "6b155dcf-6f7f-4f9c-9a8c-a3b8ac010850",
   "metadata": {},
   "outputs": [],
   "source": [
    "load_dotenv()\n",
    "nyt_key = os.getenv('NYTIMES_KEY')"
   ]
  },
  {
   "cell_type": "code",
   "execution_count": 7,
   "id": "dd6438e5-42d4-4d34-85d8-daa3b2e85c18",
   "metadata": {},
   "outputs": [],
   "source": [
    "# creating the nyt api object\n",
    "nyt = NYTAPI(nyt_key, parse_dates=True)"
   ]
  },
  {
   "cell_type": "markdown",
   "id": "37e62b9e-4b04-4ae8-b518-f715d66ce023",
   "metadata": {},
   "source": [
    "## To ensure we cover all the dates I've split the backtesting dates into three sections.\n",
    "\n",
    "When the function below is complete it will export a csv to the same directiory as this notebook is in. It will then display the final date that it pulled with the 4000 pull requests. Make that your next start date and keep the same end date."
   ]
  },
  {
   "cell_type": "code",
   "execution_count": 8,
   "id": "d8c80f01-293f-4fc2-9f07-aad6265b3c4a",
   "metadata": {},
   "outputs": [],
   "source": [
    "# Alex (dcb):\n",
    "# dcb = Dot Com Bubble\n",
    "dcb_start = '1997-06-01'\n",
    "dcb_end = '2002-12-01'\n",
    "\n",
    "# Scott (crsh)\n",
    "# crsh = 2008 Crash\n",
    "crsh_start = '2007-06-01'\n",
    "crsh_end = '2012-12-01'\n",
    "\n",
    "# Roger (cvd)\n",
    "# cvd = COVID-19\n",
    "cvd_start = '2020-03-01'\n",
    "cvd_end = '2022-06-01'"
   ]
  },
  {
   "cell_type": "code",
   "execution_count": 9,
   "id": "89e6751a-2ddb-454c-96cf-bf155e28da94",
   "metadata": {},
   "outputs": [
    {
     "data": {
      "text/plain": [
       "[]"
      ]
     },
     "execution_count": 9,
     "metadata": {},
     "output_type": "execute_result"
    }
   ],
   "source": [
    "nyt.article_search(\n",
    "    query = 'Economy',\n",
    "    results = 1,\n",
    "    dates = {\n",
    "        \"begin\": datetime(2021,11,10),\n",
    "        \"end\": datetime(2021,10,10)\n",
    "    },\n",
    "    options = {\n",
    "        \"sort\": \"oldest\",\n",
    "    }\n",
    "    )"
   ]
  },
  {
   "cell_type": "markdown",
   "id": "6cdea218-889e-492c-9192-8c7a13a2036e",
   "metadata": {},
   "source": [
    "### Search Term 1: ('Stock Market')\n",
    "### Search Term 2: ('Economy')\n",
    "\n",
    "Start with search term one and complete the entire time frame once that is completed if we have time we will all run seach term two"
   ]
  },
  {
   "cell_type": "code",
   "execution_count": 10,
   "id": "a31dcf08-67f6-4315-bcfe-1f7ba244e0f5",
   "metadata": {},
   "outputs": [],
   "source": [
    "def get_articles(search_term, start_date, end_date):\n",
    "    \n",
    "    # ensuring the dates are in the correct format Y% m% d%\n",
    "    start_date = datetime.strptime(start_date, '%Y-%m-%d').date()\n",
    "    end_date = datetime.strptime(end_date, '%Y-%m-%d').date()\n",
    "    \n",
    "    # turning the dates into ints\n",
    "    sy_int = int(start_date.strftime('%Y'))\n",
    "    sm_int = int(start_date.strftime('%m'))\n",
    "    sd_int = int(start_date.strftime('%d'))\n",
    "    \n",
    "    \n",
    "    ey_int = int(end_date.strftime('%Y'))\n",
    "    em_int = int(end_date.strftime('%m'))\n",
    "    ed_int = int(end_date.strftime('%d'))\n",
    "    \n",
    "    \n",
    "    # pulling data from the nytimes article\n",
    "    articles = nyt.article_search(\n",
    "    query = search_term,\n",
    "    results = 4000,\n",
    "    dates = {\n",
    "        \"begin\": datetime(sy_int,sm_int,sd_int),\n",
    "        \"end\": datetime(ey_int,em_int,ed_int)\n",
    "    },\n",
    "    options = {\n",
    "        \"sort\": \"oldest\",\n",
    "    }\n",
    "    )\n",
    "    \n",
    "    # creating a dataframe for the articles with only the pub_date and text snippet\n",
    "    out_articles_df = pd.DataFrame(articles)\n",
    "    out_articles_df = out_articles_df[['pub_date','']]\n",
    "\n",
    "    # creating a variable for the name of the export csv\n",
    "    \n",
    "    search_term = search_term.replace(\" \", \"_\")\n",
    "    export_name = f\"{search_term}_{start_date}\"\n",
    "    # exporting the file to csv in the same directory as the notebook\n",
    "    sentiment_csv = out_articles_df.to_csv(f'{export_name}.csv', index=False)\n",
    "    \n",
    "    # putting the last date into proper formatting\n",
    "    start_date = out_articles_df['pub_date'].iloc[-1]\n",
    "    print(f\"make this your next start date {start_date} and keep the same end date\")\n",
    "    \n",
    "    return start_date"
   ]
  },
  {
   "cell_type": "code",
   "execution_count": 11,
   "id": "7f4bfaf8-f087-4bc8-8a35-c28f970debce",
   "metadata": {},
   "outputs": [
    {
     "name": "stderr",
     "output_type": "stream",
     "text": [
      "/opt/anaconda3/envs/tradenv/lib/python3.7/site-packages/pynytimes/api.py:764: UserWarning: Asking for a lot of results, because of rate limits it can take a while.\n",
      "  \"Asking for a lot of results, because of rate limits it can take a while.\"\n",
      "/opt/anaconda3/envs/tradenv/lib/python3.7/site-packages/pynytimes/api.py:771: UserWarning: Asking for more results then the API can provide, loading maximum results.\n",
      "  \"Asking for more results then the API can provide, loading maximum results.\"\n"
     ]
    },
    {
     "ename": "KeyError",
     "evalue": "\"[''] not in index\"",
     "output_type": "error",
     "traceback": [
      "\u001b[0;31m---------------------------------------------------------------------------\u001b[0m",
      "\u001b[0;31mKeyError\u001b[0m                                  Traceback (most recent call last)",
      "\u001b[0;32m<ipython-input-11-4fada4e776bb>\u001b[0m in \u001b[0;36m<module>\u001b[0;34m\u001b[0m\n\u001b[0;32m----> 1\u001b[0;31m \u001b[0mget_articles\u001b[0m\u001b[0;34m(\u001b[0m\u001b[0;34m'Stock Market'\u001b[0m\u001b[0;34m,\u001b[0m \u001b[0;34m'2002-12-01'\u001b[0m\u001b[0;34m,\u001b[0m \u001b[0mcvd_end\u001b[0m\u001b[0;34m)\u001b[0m\u001b[0;34m\u001b[0m\u001b[0;34m\u001b[0m\u001b[0m\n\u001b[0m",
      "\u001b[0;32m<ipython-input-10-6dc52ca424cd>\u001b[0m in \u001b[0;36mget_articles\u001b[0;34m(search_term, start_date, end_date)\u001b[0m\n\u001b[1;32m     31\u001b[0m     \u001b[0;31m# creating a dataframe for the articles with only the pub_date and text snippet\u001b[0m\u001b[0;34m\u001b[0m\u001b[0;34m\u001b[0m\u001b[0;34m\u001b[0m\u001b[0m\n\u001b[1;32m     32\u001b[0m     \u001b[0mout_articles_df\u001b[0m \u001b[0;34m=\u001b[0m \u001b[0mpd\u001b[0m\u001b[0;34m.\u001b[0m\u001b[0mDataFrame\u001b[0m\u001b[0;34m(\u001b[0m\u001b[0marticles\u001b[0m\u001b[0;34m)\u001b[0m\u001b[0;34m\u001b[0m\u001b[0;34m\u001b[0m\u001b[0m\n\u001b[0;32m---> 33\u001b[0;31m     \u001b[0mout_articles_df\u001b[0m \u001b[0;34m=\u001b[0m \u001b[0mout_articles_df\u001b[0m\u001b[0;34m[\u001b[0m\u001b[0;34m[\u001b[0m\u001b[0;34m'pub_date'\u001b[0m\u001b[0;34m,\u001b[0m\u001b[0;34m''\u001b[0m\u001b[0;34m]\u001b[0m\u001b[0;34m]\u001b[0m\u001b[0;34m\u001b[0m\u001b[0;34m\u001b[0m\u001b[0m\n\u001b[0m\u001b[1;32m     34\u001b[0m \u001b[0;34m\u001b[0m\u001b[0m\n\u001b[1;32m     35\u001b[0m     \u001b[0;31m# creating a variable for the name of the export csv\u001b[0m\u001b[0;34m\u001b[0m\u001b[0;34m\u001b[0m\u001b[0;34m\u001b[0m\u001b[0m\n",
      "\u001b[0;32m/opt/anaconda3/envs/tradenv/lib/python3.7/site-packages/pandas/core/frame.py\u001b[0m in \u001b[0;36m__getitem__\u001b[0;34m(self, key)\u001b[0m\n\u001b[1;32m   3462\u001b[0m             \u001b[0;32mif\u001b[0m \u001b[0mis_iterator\u001b[0m\u001b[0;34m(\u001b[0m\u001b[0mkey\u001b[0m\u001b[0;34m)\u001b[0m\u001b[0;34m:\u001b[0m\u001b[0;34m\u001b[0m\u001b[0;34m\u001b[0m\u001b[0m\n\u001b[1;32m   3463\u001b[0m                 \u001b[0mkey\u001b[0m \u001b[0;34m=\u001b[0m \u001b[0mlist\u001b[0m\u001b[0;34m(\u001b[0m\u001b[0mkey\u001b[0m\u001b[0;34m)\u001b[0m\u001b[0;34m\u001b[0m\u001b[0;34m\u001b[0m\u001b[0m\n\u001b[0;32m-> 3464\u001b[0;31m             \u001b[0mindexer\u001b[0m \u001b[0;34m=\u001b[0m \u001b[0mself\u001b[0m\u001b[0;34m.\u001b[0m\u001b[0mloc\u001b[0m\u001b[0;34m.\u001b[0m\u001b[0m_get_listlike_indexer\u001b[0m\u001b[0;34m(\u001b[0m\u001b[0mkey\u001b[0m\u001b[0;34m,\u001b[0m \u001b[0maxis\u001b[0m\u001b[0;34m=\u001b[0m\u001b[0;36m1\u001b[0m\u001b[0;34m)\u001b[0m\u001b[0;34m[\u001b[0m\u001b[0;36m1\u001b[0m\u001b[0;34m]\u001b[0m\u001b[0;34m\u001b[0m\u001b[0;34m\u001b[0m\u001b[0m\n\u001b[0m\u001b[1;32m   3465\u001b[0m \u001b[0;34m\u001b[0m\u001b[0m\n\u001b[1;32m   3466\u001b[0m         \u001b[0;31m# take() does not accept boolean indexers\u001b[0m\u001b[0;34m\u001b[0m\u001b[0;34m\u001b[0m\u001b[0;34m\u001b[0m\u001b[0m\n",
      "\u001b[0;32m/opt/anaconda3/envs/tradenv/lib/python3.7/site-packages/pandas/core/indexing.py\u001b[0m in \u001b[0;36m_get_listlike_indexer\u001b[0;34m(self, key, axis)\u001b[0m\n\u001b[1;32m   1312\u001b[0m             \u001b[0mkeyarr\u001b[0m\u001b[0;34m,\u001b[0m \u001b[0mindexer\u001b[0m\u001b[0;34m,\u001b[0m \u001b[0mnew_indexer\u001b[0m \u001b[0;34m=\u001b[0m \u001b[0max\u001b[0m\u001b[0;34m.\u001b[0m\u001b[0m_reindex_non_unique\u001b[0m\u001b[0;34m(\u001b[0m\u001b[0mkeyarr\u001b[0m\u001b[0;34m)\u001b[0m\u001b[0;34m\u001b[0m\u001b[0;34m\u001b[0m\u001b[0m\n\u001b[1;32m   1313\u001b[0m \u001b[0;34m\u001b[0m\u001b[0m\n\u001b[0;32m-> 1314\u001b[0;31m         \u001b[0mself\u001b[0m\u001b[0;34m.\u001b[0m\u001b[0m_validate_read_indexer\u001b[0m\u001b[0;34m(\u001b[0m\u001b[0mkeyarr\u001b[0m\u001b[0;34m,\u001b[0m \u001b[0mindexer\u001b[0m\u001b[0;34m,\u001b[0m \u001b[0maxis\u001b[0m\u001b[0;34m)\u001b[0m\u001b[0;34m\u001b[0m\u001b[0;34m\u001b[0m\u001b[0m\n\u001b[0m\u001b[1;32m   1315\u001b[0m \u001b[0;34m\u001b[0m\u001b[0m\n\u001b[1;32m   1316\u001b[0m         if needs_i8_conversion(ax.dtype) or isinstance(\n",
      "\u001b[0;32m/opt/anaconda3/envs/tradenv/lib/python3.7/site-packages/pandas/core/indexing.py\u001b[0m in \u001b[0;36m_validate_read_indexer\u001b[0;34m(self, key, indexer, axis)\u001b[0m\n\u001b[1;32m   1375\u001b[0m \u001b[0;34m\u001b[0m\u001b[0m\n\u001b[1;32m   1376\u001b[0m             \u001b[0mnot_found\u001b[0m \u001b[0;34m=\u001b[0m \u001b[0mlist\u001b[0m\u001b[0;34m(\u001b[0m\u001b[0mensure_index\u001b[0m\u001b[0;34m(\u001b[0m\u001b[0mkey\u001b[0m\u001b[0;34m)\u001b[0m\u001b[0;34m[\u001b[0m\u001b[0mmissing_mask\u001b[0m\u001b[0;34m.\u001b[0m\u001b[0mnonzero\u001b[0m\u001b[0;34m(\u001b[0m\u001b[0;34m)\u001b[0m\u001b[0;34m[\u001b[0m\u001b[0;36m0\u001b[0m\u001b[0;34m]\u001b[0m\u001b[0;34m]\u001b[0m\u001b[0;34m.\u001b[0m\u001b[0munique\u001b[0m\u001b[0;34m(\u001b[0m\u001b[0;34m)\u001b[0m\u001b[0;34m)\u001b[0m\u001b[0;34m\u001b[0m\u001b[0;34m\u001b[0m\u001b[0m\n\u001b[0;32m-> 1377\u001b[0;31m             \u001b[0;32mraise\u001b[0m \u001b[0mKeyError\u001b[0m\u001b[0;34m(\u001b[0m\u001b[0;34mf\"{not_found} not in index\"\u001b[0m\u001b[0;34m)\u001b[0m\u001b[0;34m\u001b[0m\u001b[0;34m\u001b[0m\u001b[0m\n\u001b[0m\u001b[1;32m   1378\u001b[0m \u001b[0;34m\u001b[0m\u001b[0m\n\u001b[1;32m   1379\u001b[0m \u001b[0;34m\u001b[0m\u001b[0m\n",
      "\u001b[0;31mKeyError\u001b[0m: \"[''] not in index\""
     ]
    }
   ],
   "source": [
    "get_articles('Stock Market', '2002-12-01', cvd_end)"
   ]
  },
  {
   "cell_type": "markdown",
   "id": "47dc764d-795d-49fd-85b0-be9c1e538d81",
   "metadata": {},
   "source": [
    "## Lets get this goin!"
   ]
  },
  {
   "cell_type": "code",
   "execution_count": null,
   "id": "b1d7e4e0-ed2f-4c53-9e58-64293bb82b48",
   "metadata": {},
   "outputs": [],
   "source": []
  }
 ],
 "metadata": {
  "kernelspec": {
   "display_name": "Python 3",
   "language": "python",
   "name": "python3"
  },
  "language_info": {
   "codemirror_mode": {
    "name": "ipython",
    "version": 3
   },
   "file_extension": ".py",
   "mimetype": "text/x-python",
   "name": "python",
   "nbconvert_exporter": "python",
   "pygments_lexer": "ipython3",
   "version": "3.7.13"
  }
 },
 "nbformat": 4,
 "nbformat_minor": 5
}
